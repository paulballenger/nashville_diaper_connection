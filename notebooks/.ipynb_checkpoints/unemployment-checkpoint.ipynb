{
 "cells": [
  {
   "cell_type": "markdown",
   "metadata": {},
   "source": [
    "### Create df and plot showing unemployment rates in TN for 2020"
   ]
  },
  {
   "cell_type": "code",
   "execution_count": 1,
   "metadata": {},
   "outputs": [],
   "source": [
    "import pandas as pd\n",
    "import matplotlib.pyplot as plt\n",
    "import numpy as np\n",
    "import seaborn as sns\n",
    "\n",
    "%matplotlib inline"
   ]
  },
  {
   "cell_type": "code",
   "execution_count": 2,
   "metadata": {},
   "outputs": [
    {
     "name": "stdout",
     "output_type": "stream",
     "text": [
      "  month unemployment_rate\n",
      "0   Jan               3.3\n",
      "1   Feb               3.4\n",
      "2   Mar               3.3\n",
      "3   Apr              15.5\n",
      "4   May              11.0\n",
      "5   Jun               9.6\n",
      "6   Jul               9.7\n",
      "7   Aug               8.6\n",
      "8   Sep               6.3\n"
     ]
    }
   ],
   "source": [
    "#create df using data from https://www.tn.gov/content/dam/tn/workforce/documents/economicanalysis/EconomicAnalysisSep20.pdf\n",
    "data = {'month': ['Jan','Feb','Mar','Apr','May','Jun','Jul','Aug','Sep'],\n",
    "        'unemployment_rate': ['3.3','3.4','3.3','15.5','11.0','9.6','9.7','8.6','6.3']\n",
    "       }\n",
    "\n",
    "unemployment = pd.DataFrame (data, columns = ['month','unemployment_rate'])\n",
    "\n",
    "print (unemployment)\n"
   ]
  },
  {
   "cell_type": "code",
   "execution_count": null,
   "metadata": {},
   "outputs": [],
   "source": []
  }
 ],
 "metadata": {
  "kernelspec": {
   "display_name": "Python 3",
   "language": "python",
   "name": "python3"
  },
  "language_info": {
   "codemirror_mode": {
    "name": "ipython",
    "version": 3
   },
   "file_extension": ".py",
   "mimetype": "text/x-python",
   "name": "python",
   "nbconvert_exporter": "python",
   "pygments_lexer": "ipython3",
   "version": "3.8.3"
  }
 },
 "nbformat": 4,
 "nbformat_minor": 4
}
