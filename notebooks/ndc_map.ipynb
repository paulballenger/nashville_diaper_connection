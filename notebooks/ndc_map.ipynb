{
 "cells": [
  {
   "cell_type": "code",
   "execution_count": 1,
   "metadata": {},
   "outputs": [
    {
     "ename": "ModuleNotFoundError",
     "evalue": "No module named 'geopandas'",
     "output_type": "error",
     "traceback": [
      "\u001b[1;31m---------------------------------------------------------------------------\u001b[0m",
      "\u001b[1;31mModuleNotFoundError\u001b[0m                       Traceback (most recent call last)",
      "\u001b[1;32m<ipython-input-1-23432a190c3b>\u001b[0m in \u001b[0;36m<module>\u001b[1;34m\u001b[0m\n\u001b[0;32m      1\u001b[0m \u001b[1;32mimport\u001b[0m \u001b[0mpandas\u001b[0m \u001b[1;32mas\u001b[0m \u001b[0mpd\u001b[0m\u001b[1;33m\u001b[0m\u001b[1;33m\u001b[0m\u001b[0m\n\u001b[1;32m----> 2\u001b[1;33m \u001b[1;32mimport\u001b[0m \u001b[0mgeopandas\u001b[0m \u001b[1;32mas\u001b[0m \u001b[0mgpd\u001b[0m\u001b[1;33m\u001b[0m\u001b[1;33m\u001b[0m\u001b[0m\n\u001b[0m\u001b[0;32m      3\u001b[0m \u001b[1;32mimport\u001b[0m \u001b[0mmatplotlib\u001b[0m\u001b[1;33m.\u001b[0m\u001b[0mpyplot\u001b[0m \u001b[1;32mas\u001b[0m \u001b[0mplt\u001b[0m\u001b[1;33m\u001b[0m\u001b[1;33m\u001b[0m\u001b[0m\n\u001b[0;32m      4\u001b[0m \u001b[1;32mimport\u001b[0m \u001b[0mfolium\u001b[0m\u001b[1;33m\u001b[0m\u001b[1;33m\u001b[0m\u001b[0m\n\u001b[0;32m      5\u001b[0m \u001b[1;32mfrom\u001b[0m \u001b[0mfolium\u001b[0m\u001b[1;33m.\u001b[0m\u001b[0mplugins\u001b[0m \u001b[1;32mimport\u001b[0m \u001b[0mMarkerCluster\u001b[0m\u001b[1;33m\u001b[0m\u001b[1;33m\u001b[0m\u001b[0m\n",
      "\u001b[1;31mModuleNotFoundError\u001b[0m: No module named 'geopandas'"
     ]
    }
   ],
   "source": [
    "import pandas as pd\n",
    "import geopandas as gpd\n",
    "import matplotlib.pyplot as plt\n",
    "import folium\n",
    "from folium.plugins import MarkerCluster\n",
    "from geopy.exc import GeocoderTimedOut \n",
    "from geopy.geocoders import Nominatim\n",
    "\n",
    "%matplotlib inline"
   ]
  },
  {
   "cell_type": "code",
   "execution_count": null,
   "metadata": {},
   "outputs": [],
   "source": [
    "#import NDC deliveries csv\n",
    "ndc_partner_del = pd.read_csv('../data/ndc_deliveries.csv')\n",
    "print(ndc_partner_del.shape)\n",
    "ndc_partner_del.head()"
   ]
  },
  {
   "cell_type": "code",
   "execution_count": null,
   "metadata": {},
   "outputs": [],
   "source": [
    "#get total deliveries by county\n",
    "total_by_county=ndc_partner_del.groupby(['County'], as_index=False)['Total'].sum()\n",
    "total_by_county"
   ]
  },
  {
   "cell_type": "code",
   "execution_count": null,
   "metadata": {},
   "outputs": [],
   "source": [
    "total_by_county.to_csv('../files/total_by_county.csv', index = False)"
   ]
  },
  {
   "cell_type": "code",
   "execution_count": null,
   "metadata": {},
   "outputs": [],
   "source": [
    "#import county file\n",
    "counties = gpd.read_file('../data/county.geojson')\n",
    "counties.head()"
   ]
  },
  {
   "cell_type": "code",
   "execution_count": null,
   "metadata": {},
   "outputs": [],
   "source": [
    "# keep only rows for counties needed\n",
    "counties=counties[counties['COUNTY_STATE_CODE'].isin(['Davidson, TN','Wilson, TN','Williamson, TN','Washington, TN','Marshall, TN','Maury, TN'])]\n",
    "counties.head()"
   ]
  },
  {
   "cell_type": "code",
   "execution_count": null,
   "metadata": {},
   "outputs": [],
   "source": [
    "#create TN counties\n",
    "polygon_tn = counties\n",
    "polygon_tn.shape"
   ]
  },
  {
   "cell_type": "code",
   "execution_count": null,
   "metadata": {
    "scrolled": false
   },
   "outputs": [],
   "source": [
    "ndc_map = folium.Map(\n",
    "    location=[35.85,-86.767960],\n",
    "    zoom_start=8.5,\n",
    "    #tiles='Stamen Terrain'\n",
    ")\n",
    "\n",
    "#create a marker cluster\n",
    "marker_cluster = MarkerCluster().add_to(ndc_map)\n",
    "\n",
    "folium.GeoJson(polygon_tn).add_to(ndc_map)\n",
    "\n",
    "folium.Choropleth(\n",
    "    geo_data=counties,\n",
    "    name='choropleth',\n",
    "    data=total_by_county,\n",
    "    columns=['County', 'Total'],\n",
    "    key_on='feature.properties.COUNTY_STATE_CODE',\n",
    "    fill_color='YlGn',\n",
    "    fill_opacity=0.7,\n",
    "    line_opacity=0.2,\n",
    "    legend_name='Diapers Distributed to Partners 2020 YTD'\n",
    ").add_to(ndc_map)\n",
    "\n",
    "folium.LayerControl().add_to(ndc_map)\n",
    "\n",
    "# inside the loop add each marker to the cluster\n",
    "#for row_index, row_values in ndc_partner_del.iterrows():\n",
    "#    loc = [row_values['Latitude'], row_values['Longitude']]\n",
    "#    pop = '<b>Partner:</b> ' + str(row_values['Partners']) + ' ' + '<b>Diapers Delivered:</b> ' + str(row_values['Total'])\n",
    "#    icon=folium.Icon(color=\"orange\",icon=\"circle\", prefix='fa')\n",
    "    \n",
    "#    marker = folium.Marker(\n",
    "#        location = loc, \n",
    "#        popup = pop,\n",
    "#    icon = icon) \n",
    "    \n",
    "#    marker.add_to(marker_cluster)\n",
    "    \n",
    "#for pop ups\n",
    "for ind, row in ndc_partner_del.iterrows(): \n",
    "    point = [row['Latitude'], row['Longitude']]\n",
    "    popup = '<b>Partner:</b> ' + str(row['Partners']) + ' ' + '<b>Diapers Delivered:</b> ' + str(row['Total'])\n",
    "    folium.CircleMarker(point, popup = popup, radius=5, fill=True, color='orange').add_to(ndc_map)\n",
    "    \n",
    "    #now color format based on the strength of the tornado\n",
    "    #if row['EF_Scale']==\"EF3\":\n",
    "    #    folium.CircleMarker(point, popup = popup, radius=5, fill=True, color='red').add_to(new_map_911_tornado)\n",
    "    #else:\n",
    "    #    folium.CircleMarker(point, popup = popup, radius=5, fill=True, color='orange').add_to(new_map_911_tornado)\n",
    "    \n",
    "ndc_map"
   ]
  },
  {
   "cell_type": "code",
   "execution_count": null,
   "metadata": {},
   "outputs": [],
   "source": [
    "#save to html\n",
    "#ndc_map.save('../files/ndc_map.html')"
   ]
  },
  {
   "cell_type": "code",
   "execution_count": null,
   "metadata": {},
   "outputs": [],
   "source": [
    "#save as png\n",
    "ndc_map.save('../files/ndc_map.png',bbox_inches='tight', dpi=300)"
   ]
  },
  {
   "cell_type": "code",
   "execution_count": null,
   "metadata": {},
   "outputs": [],
   "source": []
  }
 ],
 "metadata": {
  "kernelspec": {
   "display_name": "Python 3",
   "language": "python",
   "name": "python3"
  },
  "language_info": {
   "codemirror_mode": {
    "name": "ipython",
    "version": 3
   },
   "file_extension": ".py",
   "mimetype": "text/x-python",
   "name": "python",
   "nbconvert_exporter": "python",
   "pygments_lexer": "ipython3",
   "version": "3.8.3"
  }
 },
 "nbformat": 4,
 "nbformat_minor": 4
}
